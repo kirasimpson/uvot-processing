{
 "cells": [
  {
   "cell_type": "code",
   "execution_count": 37,
   "metadata": {},
   "outputs": [
    {
     "name": "stdout",
     "output_type": "stream",
     "text": [
      " GalaxyName       RA         Dec       D    T  E(B-V)  Bmag \n",
      "------------ ----------- ----------- ----- --- ------ ------\n",
      "         WLM 00:01:58.16 -15:27:39.3  0.92  10   0.04 -13.56\n",
      "     NGC0024 00:09:56.54 -24:57:47.3  8.13   5   0.02 -17.46\n",
      "     NGC0045 00:14:03.99 -23:10:55.5  7.07   8   0.02 -18.19\n",
      " NGC0055\\dag 00:14:53.60 -39:11:47.9  2.17   9   0.01    nan\n",
      "     NGC0059 00:15:25.13 -21:26:39.8   5.3  -3   0.02 -15.62\n",
      " ESO410-G005 00:15:31.56 -32:10:47.8   1.9  -1   0.01 -11.34\n",
      "SCULPTOR-DE1 00:23:51.70 -24:42:18.0   4.2  10   0.02  -11.0\n",
      " ESO294-G010 00:26:33.37 -41:51:19.1   1.9  -3   0.01 -11.09\n",
      "      IC1574 00:43:03.82 -22:14:48.8  4.92  10   0.02 -14.05\n",
      "     NGC0247 00:47:08.55 -20:45:37.4  3.65   7   0.02 -18.31\n",
      "         ...         ...         ...   ... ...    ...    ...\n",
      "  IC5152\\dag 22:02:41.51 -51:17:47.2  1.97  10   0.03    nan\n",
      "      IC5256 22:49:45.81 -68:41:26.4 10.76   8   0.03 -15.37\n",
      "     UGCA438 23:26:27.52 -32:23:19.5  2.22  10   0.01 -12.34\n",
      " ESO347-G017 23:26:56.21 -37:20:48.9  9.37   9   0.02 -15.63\n",
      "    UGC12613 23:28:36.25 +14:44:34.5  0.76  10   0.07 -11.93\n",
      "      IC5332 23:34:27.49 -36:06:03.9  9.53   7   0.02 -18.88\n",
      "     NGC7713 23:36:14.99 -37:56:17.1  9.28   7   0.02 -18.33\n",
      "     UGCA442 23:43:45.55 -31:57:24.4  4.27   9   0.02 -14.41\n",
      "      KKH098 23:45:34.02 +38:43:03.7   2.5  10   0.12 -11.51\n",
      " ESO149-G003 23:52:02.80 -52:34:39.8   6.4  10   0.01 -14.15\n",
      "     NGC7793 23:57:49.83 -32:35:27.7  3.91   7   0.02 -18.34\n",
      "Length = 258 rows\n",
      "['GalaxyName', 'RA', 'Dec', 'D', 'T', 'E(B-V)', 'Bmag']\n"
     ]
    }
   ],
   "source": [
    "#script to convert distances from Cook et al LVLS table to redshifts for MCSED\n",
    "\n",
    "#imports\n",
    "from astropy.io import ascii\n",
    "from astropy.table import Table\n",
    "import os\n",
    "\n",
    "dist_table = ascii.read('lvls_dist.dat')\n",
    "cols = test.colnames\n",
    "\n",
    "print(test)\n",
    "print(cols)"
   ]
  },
  {
   "cell_type": "code",
   "execution_count": 38,
   "metadata": {},
   "outputs": [],
   "source": [
    "#define some quick constants\n",
    "\n",
    "c = 3*10**5\n",
    "H_0 = 70 #(km/s)/Mpc\n",
    "\n",
    "#create new file for redshifts\n",
    "z_file = open('lvls_redshifts.dat', 'w+')"
   ]
  },
  {
   "cell_type": "code",
   "execution_count": 39,
   "metadata": {},
   "outputs": [],
   "source": [
    "#separate distances\n",
    "dist = dist_table['D']\n",
    "    \n",
    "#set up a dictionary for the distances to match to names\n",
    "dist_dict = dict(zip(dist_table['GalaxyName'], dist))"
   ]
  },
  {
   "cell_type": "code",
   "execution_count": 40,
   "metadata": {},
   "outputs": [],
   "source": [
    "#convert all the values from distances to redshifts\n",
    "for key, val in dist_dict.items():\n",
    "    z = H_0*val/c\n",
    "    dist_dict[key] = z\n",
    "    z_file.write(key + '  ' + str(dist_dict[key]) + '\\n')\n",
    "    \n",
    "z_file.close()"
   ]
  },
  {
   "cell_type": "code",
   "execution_count": null,
   "metadata": {},
   "outputs": [],
   "source": [
    "\n",
    "\n"
   ]
  }
 ],
 "metadata": {
  "kernelspec": {
   "display_name": "Python 3",
   "language": "python",
   "name": "python3"
  },
  "language_info": {
   "codemirror_mode": {
    "name": "ipython",
    "version": 3
   },
   "file_extension": ".py",
   "mimetype": "text/x-python",
   "name": "python",
   "nbconvert_exporter": "python",
   "pygments_lexer": "ipython3",
   "version": "3.7.4"
  }
 },
 "nbformat": 4,
 "nbformat_minor": 2
}
